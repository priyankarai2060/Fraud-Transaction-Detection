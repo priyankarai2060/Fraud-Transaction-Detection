{
 "cells": [
  {
   "cell_type": "code",
   "execution_count": 1,
   "id": "dcf658c6",
   "metadata": {},
   "outputs": [],
   "source": [
    "import pandas as pd\n",
    "import glob\n"
   ]
  },
  {
   "cell_type": "code",
   "execution_count": 2,
   "id": "099d3782",
   "metadata": {},
   "outputs": [],
   "source": [
    "data_path = \"D:/unified_metor_content/fraud_detection/fraud_detection/\" \n",
    "\n",
    "file_list = sorted(glob.glob(data_path + \"*.pkl\"))\n",
    "\n",
    "# Read and concatenate all daily files\n",
    "df_all = pd.concat([pd.read_pickle(file) for file in file_list], ignore_index=True)"
   ]
  },
  {
   "cell_type": "code",
   "execution_count": 3,
   "id": "5c08e529",
   "metadata": {},
   "outputs": [
    {
     "data": {
      "text/html": [
       "<div>\n",
       "<style scoped>\n",
       "    .dataframe tbody tr th:only-of-type {\n",
       "        vertical-align: middle;\n",
       "    }\n",
       "\n",
       "    .dataframe tbody tr th {\n",
       "        vertical-align: top;\n",
       "    }\n",
       "\n",
       "    .dataframe thead th {\n",
       "        text-align: right;\n",
       "    }\n",
       "</style>\n",
       "<table border=\"1\" class=\"dataframe\">\n",
       "  <thead>\n",
       "    <tr style=\"text-align: right;\">\n",
       "      <th></th>\n",
       "      <th>TRANSACTION_ID</th>\n",
       "      <th>TX_DATETIME</th>\n",
       "      <th>CUSTOMER_ID</th>\n",
       "      <th>TERMINAL_ID</th>\n",
       "      <th>TX_AMOUNT</th>\n",
       "      <th>TX_TIME_SECONDS</th>\n",
       "      <th>TX_TIME_DAYS</th>\n",
       "      <th>TX_FRAUD</th>\n",
       "      <th>TX_FRAUD_SCENARIO</th>\n",
       "    </tr>\n",
       "  </thead>\n",
       "  <tbody>\n",
       "    <tr>\n",
       "      <th>0</th>\n",
       "      <td>0</td>\n",
       "      <td>2018-04-01 00:00:31</td>\n",
       "      <td>596</td>\n",
       "      <td>3156</td>\n",
       "      <td>57.16</td>\n",
       "      <td>31</td>\n",
       "      <td>0</td>\n",
       "      <td>0</td>\n",
       "      <td>0</td>\n",
       "    </tr>\n",
       "    <tr>\n",
       "      <th>1</th>\n",
       "      <td>1</td>\n",
       "      <td>2018-04-01 00:02:10</td>\n",
       "      <td>4961</td>\n",
       "      <td>3412</td>\n",
       "      <td>81.51</td>\n",
       "      <td>130</td>\n",
       "      <td>0</td>\n",
       "      <td>0</td>\n",
       "      <td>0</td>\n",
       "    </tr>\n",
       "    <tr>\n",
       "      <th>2</th>\n",
       "      <td>2</td>\n",
       "      <td>2018-04-01 00:07:56</td>\n",
       "      <td>2</td>\n",
       "      <td>1365</td>\n",
       "      <td>146.00</td>\n",
       "      <td>476</td>\n",
       "      <td>0</td>\n",
       "      <td>0</td>\n",
       "      <td>0</td>\n",
       "    </tr>\n",
       "    <tr>\n",
       "      <th>3</th>\n",
       "      <td>3</td>\n",
       "      <td>2018-04-01 00:09:29</td>\n",
       "      <td>4128</td>\n",
       "      <td>8737</td>\n",
       "      <td>64.49</td>\n",
       "      <td>569</td>\n",
       "      <td>0</td>\n",
       "      <td>0</td>\n",
       "      <td>0</td>\n",
       "    </tr>\n",
       "    <tr>\n",
       "      <th>4</th>\n",
       "      <td>4</td>\n",
       "      <td>2018-04-01 00:10:34</td>\n",
       "      <td>927</td>\n",
       "      <td>9906</td>\n",
       "      <td>50.99</td>\n",
       "      <td>634</td>\n",
       "      <td>0</td>\n",
       "      <td>0</td>\n",
       "      <td>0</td>\n",
       "    </tr>\n",
       "  </tbody>\n",
       "</table>\n",
       "</div>"
      ],
      "text/plain": [
       "   TRANSACTION_ID         TX_DATETIME CUSTOMER_ID TERMINAL_ID  TX_AMOUNT  \\\n",
       "0               0 2018-04-01 00:00:31         596        3156      57.16   \n",
       "1               1 2018-04-01 00:02:10        4961        3412      81.51   \n",
       "2               2 2018-04-01 00:07:56           2        1365     146.00   \n",
       "3               3 2018-04-01 00:09:29        4128        8737      64.49   \n",
       "4               4 2018-04-01 00:10:34         927        9906      50.99   \n",
       "\n",
       "  TX_TIME_SECONDS TX_TIME_DAYS  TX_FRAUD  TX_FRAUD_SCENARIO  \n",
       "0              31            0         0                  0  \n",
       "1             130            0         0                  0  \n",
       "2             476            0         0                  0  \n",
       "3             569            0         0                  0  \n",
       "4             634            0         0                  0  "
      ]
     },
     "execution_count": 3,
     "metadata": {},
     "output_type": "execute_result"
    }
   ],
   "source": [
    "df_all.head()\n"
   ]
  },
  {
   "cell_type": "code",
   "execution_count": 4,
   "id": "135b2778",
   "metadata": {},
   "outputs": [],
   "source": [
    "df_all[\"fraud_amt\"] = (df_all[\"TX_AMOUNT\"] > 220).astype(int)\n"
   ]
  },
  {
   "cell_type": "code",
   "execution_count": 5,
   "id": "f4d2e815",
   "metadata": {},
   "outputs": [],
   "source": [
    "#df_all.head()"
   ]
  },
  {
   "cell_type": "code",
   "execution_count": 6,
   "id": "a816e009",
   "metadata": {},
   "outputs": [],
   "source": [
    "df_all['amt_sum'] = df_all['TERMINAL_ID'].map(df_all.groupby('TERMINAL_ID')['TX_AMOUNT'].sum())\n"
   ]
  },
  {
   "cell_type": "code",
   "execution_count": 7,
   "id": "b8839885",
   "metadata": {},
   "outputs": [],
   "source": [
    "#df_all"
   ]
  },
  {
   "cell_type": "code",
   "execution_count": 8,
   "id": "4dd2cef3",
   "metadata": {},
   "outputs": [],
   "source": [
    "df_all['TX_DATETIME'] = pd.to_datetime(df_all['TX_DATETIME'])"
   ]
  },
  {
   "cell_type": "code",
   "execution_count": 9,
   "id": "f4233e4c",
   "metadata": {},
   "outputs": [],
   "source": [
    "df_all = df_all.sort_values(['TERMINAL_ID', 'TX_DATETIME'])"
   ]
  },
  {
   "cell_type": "code",
   "execution_count": 10,
   "id": "351d677a",
   "metadata": {},
   "outputs": [],
   "source": [
    "df_all['amt_14d'] = (\n",
    "    df_all\n",
    "    .groupby('TERMINAL_ID')\n",
    "    .apply(lambda group: group.set_index('TX_DATETIME')\n",
    "                           .TX_AMOUNT\n",
    "                           .rolling('28D')\n",
    "                           .sum()\n",
    "                           .reset_index(drop=True))\n",
    "    .reset_index(drop=True)\n",
    ")"
   ]
  },
  {
   "cell_type": "code",
   "execution_count": 11,
   "id": "13f3b938",
   "metadata": {},
   "outputs": [],
   "source": [
    "#df_all"
   ]
  },
  {
   "cell_type": "code",
   "execution_count": 12,
   "id": "ea6dadc6",
   "metadata": {},
   "outputs": [],
   "source": [
    "df_all['TERMINAL_ID'] = df_all['TERMINAL_ID'].astype('category')"
   ]
  },
  {
   "cell_type": "code",
   "execution_count": 13,
   "id": "d4c99631",
   "metadata": {},
   "outputs": [],
   "source": [
    "thresholds = df_all.groupby('TERMINAL_ID')['amt_14d'].quantile(0.95)"
   ]
  },
  {
   "cell_type": "code",
   "execution_count": 14,
   "id": "4a71b65d",
   "metadata": {},
   "outputs": [],
   "source": [
    "\n",
    "\n",
    "#thresholds_df = thresholds.reset_index()\n",
    "#thresholds_df.columns = ['TERMINAL_ID', 'threshold_95']\n",
    "\n",
    "# Merge back into the main DataFrame (fast and scalable)\n",
    "#df_all = df_all.merge(thresholds_df, on='TERMINAL_ID', how='left')"
   ]
  },
  {
   "cell_type": "code",
   "execution_count": 15,
   "id": "702d54eb",
   "metadata": {},
   "outputs": [],
   "source": [
    "#df_all['is_high_amt_7d'] = df_all['amt_7d'] > df_all['threshold_95']"
   ]
  },
  {
   "cell_type": "code",
   "execution_count": 16,
   "id": "3b1c812d",
   "metadata": {},
   "outputs": [],
   "source": [
    "#df_all"
   ]
  },
  {
   "cell_type": "code",
   "execution_count": 17,
   "id": "931d64d0",
   "metadata": {},
   "outputs": [],
   "source": [
    "df_all['threshold_95'] = df_all['TERMINAL_ID'].map(thresholds)\n",
    "\n",
    "# 3. Flag whether the 7-day sum exceeds that threshold\n",
    "df_all['is_high_amt_14d'] = df_all['amt_14d'] > df_all['threshold_95']"
   ]
  },
  {
   "cell_type": "code",
   "execution_count": 18,
   "id": "48a4fe48",
   "metadata": {},
   "outputs": [],
   "source": [
    "#df_all"
   ]
  },
  {
   "cell_type": "code",
   "execution_count": 19,
   "id": "d388603f",
   "metadata": {},
   "outputs": [],
   "source": [
    "df_all['is_high_amt_14d'] = df_all['is_high_amt_14d'].astype(int) # 0 = not fraud, 1 = fraud flag\n",
    "#df_all"
   ]
  },
  {
   "cell_type": "code",
   "execution_count": 20,
   "id": "62307439",
   "metadata": {},
   "outputs": [],
   "source": [
    "pd.set_option('display.max_rows', None)"
   ]
  },
  {
   "cell_type": "code",
   "execution_count": 21,
   "id": "73d14451",
   "metadata": {},
   "outputs": [],
   "source": [
    "#df_all[['TX_FRAUD', 'is_high_amt_7d']]\n"
   ]
  },
  {
   "cell_type": "code",
   "execution_count": 22,
   "id": "583c2a2b",
   "metadata": {},
   "outputs": [
    {
     "name": "stdout",
     "output_type": "stream",
     "text": [
      "1649010\n",
      "105145\n"
     ]
    }
   ],
   "source": [
    "matches = df_all['TX_FRAUD'] == df_all['is_high_amt_14d']\n",
    "n_matches = matches.sum()\n",
    "not_matches = (~matches).sum()\n",
    "print(n_matches)\n",
    "print(not_matches)"
   ]
  },
  {
   "cell_type": "code",
   "execution_count": 23,
   "id": "80a22d3a",
   "metadata": {},
   "outputs": [],
   "source": [
    "#df_all[~matches]"
   ]
  },
  {
   "cell_type": "code",
   "execution_count": 24,
   "id": "c3ae1dcf",
   "metadata": {},
   "outputs": [
    {
     "name": "stdout",
     "output_type": "stream",
     "text": [
      "Precision: 0.0081\n",
      "Recall: 0.0505\n",
      "F1-score: 0.0139\n"
     ]
    }
   ],
   "source": [
    "from sklearn.metrics import precision_score, recall_score, f1_score\n",
    "\n",
    "y_true = df_all['TX_FRAUD']\n",
    "y_pred = df_all['is_high_amt_14d']\n",
    "\n",
    "precision = precision_score(y_true, y_pred)\n",
    "recall = recall_score(y_true, y_pred)\n",
    "f1 = f1_score(y_true, y_pred)\n",
    "\n",
    "print(f\"Precision: {precision:.4f}\")\n",
    "print(f\"Recall: {recall:.4f}\")\n",
    "print(f\"F1-score: {f1:.4f}\")\n",
    "#so this feature is not good as standalone for predicting fraud"
   ]
  },
  {
   "cell_type": "code",
   "execution_count": 25,
   "id": "2a1f08e7",
   "metadata": {},
   "outputs": [
    {
     "name": "stdout",
     "output_type": "stream",
     "text": [
      "Precision: 1.0000\n",
      "Recall: 0.2219\n",
      "F1-score: 0.3632\n"
     ]
    }
   ],
   "source": [
    "y_true = df_all['TX_FRAUD']\n",
    "y_pred = df_all['fraud_amt']\n",
    "\n",
    "precision = precision_score(y_true, y_pred)\n",
    "recall = recall_score(y_true, y_pred)\n",
    "f1 = f1_score(y_true, y_pred)\n",
    "\n",
    "print(f\"Precision: {precision:.4f}\")\n",
    "print(f\"Recall: {recall:.4f}\")\n",
    "print(f\"F1-score: {f1:.4f}\")"
   ]
  },
  {
   "cell_type": "code",
   "execution_count": null,
   "id": "82840cb2",
   "metadata": {},
   "outputs": [],
   "source": []
  }
 ],
 "metadata": {
  "kernelspec": {
   "display_name": "Python 3 (ipykernel)",
   "language": "python",
   "name": "python3"
  },
  "language_info": {
   "codemirror_mode": {
    "name": "ipython",
    "version": 3
   },
   "file_extension": ".py",
   "mimetype": "text/x-python",
   "name": "python",
   "nbconvert_exporter": "python",
   "pygments_lexer": "ipython3",
   "version": "3.11.5"
  }
 },
 "nbformat": 4,
 "nbformat_minor": 5
}
