{
 "cells": [
  {
   "cell_type": "code",
   "execution_count": 1,
   "id": "3c890bca",
   "metadata": {},
   "outputs": [],
   "source": [
    "import pandas as pd\n",
    "import glob\n",
    "import numpy as np\n",
    "from datetime import timedelta\n"
   ]
  },
  {
   "cell_type": "code",
   "execution_count": 2,
   "id": "f5006116",
   "metadata": {},
   "outputs": [],
   "source": [
    "from sklearn.model_selection import train_test_split\n",
    "from sklearn.pipeline import Pipeline\n",
    "#from sklearn.preprocessing import StandardScaler\n",
    "#from sklearn.linear_model import LogisticRegression\n",
    "#from sklearn.compose import ColumnTransformer\n",
    "#from xgboost import XGBClassifier"
   ]
  },
  {
   "cell_type": "code",
   "execution_count": 3,
   "id": "80fbee11",
   "metadata": {},
   "outputs": [],
   "source": [
    "import matplotlib.pyplot as plt\n",
    "import numpy as np"
   ]
  },
  {
   "cell_type": "code",
   "execution_count": 4,
   "id": "bd60ec0c",
   "metadata": {},
   "outputs": [],
   "source": [
    "data_path = \"D:/unified_metor_content/fraud_detection/fraud_detection/\" \n",
    "\n",
    "file_list = sorted(glob.glob(data_path + \"*.pkl\"))\n",
    "\n",
    "# Read and concatenate all daily files\n",
    "df_all = pd.concat([pd.read_pickle(file) for file in file_list], ignore_index=True)"
   ]
  },
  {
   "cell_type": "code",
   "execution_count": 5,
   "id": "d05dcd8f",
   "metadata": {},
   "outputs": [],
   "source": [
    "df_all[\"fraud_amt\"] = (df_all[\"TX_AMOUNT\"] > 220).astype(int)"
   ]
  },
  {
   "cell_type": "code",
   "execution_count": 6,
   "id": "b3ddba19",
   "metadata": {},
   "outputs": [],
   "source": [
    "fraud_counts= df_all[df_all['TX_FRAUD'] == 1].groupby('TERMINAL_ID').size()\n",
    "df_all['fraud_count'] = df_all['TERMINAL_ID'].map(fraud_counts).fillna(0).astype(int)\n"
   ]
  },
  {
   "cell_type": "code",
   "execution_count": 7,
   "id": "a59a6aab",
   "metadata": {},
   "outputs": [],
   "source": [
    "log_vals_frdcount = np.log10(df_all['fraud_count']+0.001)\n",
    "log_vals_frdcount.skew()\n",
    "df_all['log_vals_frdcount'] = np.log10(df_all['fraud_count']+0.001)"
   ]
  },
  {
   "cell_type": "code",
   "execution_count": 8,
   "id": "79aff6b8",
   "metadata": {},
   "outputs": [],
   "source": [
    "np.random.seed(42)\n",
    "\n",
    "# Parse datetime\n",
    "df_all['datetime'] = pd.to_datetime(df_all['TX_DATETIME'])\n",
    "\n",
    "# Sort by time\n",
    "df_all = df_all.sort_values('TX_DATETIME').reset_index(drop=True)\n",
    "\n",
    "# Create helper columns if not present\n",
    "if 'TX_FRAUD' not in df_all.columns:\n",
    "    df_all['TX_FRAUD'] = 0\n",
    "if 'TX_FRAUD_SCENARIO' not in df_all.columns:\n",
    "    df_all['TX_FRAUD_SCENARIO'] = 0\n",
    "\n",
    "# Add date column\n",
    "df_all['date'] = df_all['datetime'].dt.date\n",
    "df_all['date'] = df_all['datetime'].dt.floor('D')\n",
    "# Get all unique transaction dates\n",
    "unique_dates = df_all['date'].unique()\n",
    "\n",
    "# Simulate fraud\n",
    "for day in unique_dates[:-14]:\n",
    "    current_day = pd.to_datetime(day)\n",
    "    window_end = current_day + timedelta(days=14)\n",
    "\n",
    "    active_customers = df_all[df_all['date'] == day]['CUSTOMER_ID'].unique()\n",
    "\n",
    "    if len(active_customers) < 3:\n",
    "        continue\n",
    "\n",
    "    selected_customers = np.random.choice(active_customers, size=3, replace=False)\n",
    "\n",
    "    for cust_id in selected_customers:\n",
    "        mask = (\n",
    "            (df_all['CUSTOMER_ID'] == cust_id) &\n",
    "            (df_all['datetime'] > current_day) &\n",
    "            (df_all['datetime'] <= window_end)\n",
    "        )\n",
    "        cust_txns = df_all[mask]\n",
    "\n",
    "        if len(cust_txns) == 0:\n",
    "            continue\n",
    "\n",
    "        num_fraud = max(1, len(cust_txns) // 3)\n",
    "        fraud_indices = cust_txns.sample(n=num_fraud, random_state=42).index\n",
    "\n",
    "        df_all.loc[fraud_indices, 'TX_AMOUNT'] *= 5\n",
    "        df_all.loc[fraud_indices, 'TX_FRAUD'] = 1\n",
    "        df_all.loc[fraud_indices, 'TX_FRAUD_SCENARIO'] = 4"
   ]
  },
  {
   "cell_type": "code",
   "execution_count": 9,
   "id": "ebe03540",
   "metadata": {},
   "outputs": [],
   "source": [
    "df_all['datetime'] = pd.to_datetime(df_all['TX_DATETIME'])"
   ]
  },
  {
   "cell_type": "code",
   "execution_count": 10,
   "id": "bc512642",
   "metadata": {},
   "outputs": [],
   "source": [
    "df_all['avg_tx_amt_14d'] = df_all.groupby('CUSTOMER_ID')['TX_AMOUNT'].transform(\n",
    "    lambda x: x.rolling(window=14, min_periods=1).mean().fillna(method='ffill')\n",
    "          .fillna(0)\n",
    ")"
   ]
  },
  {
   "cell_type": "code",
   "execution_count": 11,
   "id": "91afd15f",
   "metadata": {},
   "outputs": [],
   "source": [
    "df_all['std_tx_amt_14d'] = df_all.groupby('CUSTOMER_ID')['TX_AMOUNT'].transform(\n",
    "    lambda x: x.rolling(window=14, min_periods=1).std().fillna(method='ffill')\n",
    "          .fillna(0)\n",
    ")\n"
   ]
  },
  {
   "cell_type": "code",
   "execution_count": 12,
   "id": "98f79ade",
   "metadata": {},
   "outputs": [
    {
     "data": {
      "text/plain": [
       "-0.6234364098264098"
      ]
     },
     "execution_count": 12,
     "metadata": {},
     "output_type": "execute_result"
    }
   ],
   "source": [
    "log_vals = np.log1p(df_all['std_tx_amt_14d'])\n",
    "df_all['log_vals_std'] = np.log1p(df_all['std_tx_amt_14d'])\n",
    "log_vals.skew()"
   ]
  },
  {
   "cell_type": "code",
   "execution_count": 13,
   "id": "167fcd11",
   "metadata": {},
   "outputs": [
    {
     "name": "stdout",
     "output_type": "stream",
     "text": [
      "<class 'pandas.core.frame.DataFrame'>\n",
      "RangeIndex: 1754155 entries, 0 to 1754154\n",
      "Data columns (total 17 columns):\n",
      " #   Column             Dtype         \n",
      "---  ------             -----         \n",
      " 0   TRANSACTION_ID     int64         \n",
      " 1   TX_DATETIME        datetime64[ns]\n",
      " 2   CUSTOMER_ID        object        \n",
      " 3   TERMINAL_ID        object        \n",
      " 4   TX_AMOUNT          float64       \n",
      " 5   TX_TIME_SECONDS    object        \n",
      " 6   TX_TIME_DAYS       object        \n",
      " 7   TX_FRAUD           int64         \n",
      " 8   TX_FRAUD_SCENARIO  int64         \n",
      " 9   fraud_amt          int32         \n",
      " 10  fraud_count        int32         \n",
      " 11  log_vals_frdcount  float64       \n",
      " 12  datetime           datetime64[ns]\n",
      " 13  date               datetime64[ns]\n",
      " 14  avg_tx_amt_14d     float64       \n",
      " 15  std_tx_amt_14d     float64       \n",
      " 16  log_vals_std       float64       \n",
      "dtypes: datetime64[ns](3), float64(5), int32(2), int64(3), object(4)\n",
      "memory usage: 214.1+ MB\n"
     ]
    }
   ],
   "source": [
    "df_all.info() "
   ]
  },
  {
   "cell_type": "code",
   "execution_count": 14,
   "id": "23e67ade",
   "metadata": {},
   "outputs": [],
   "source": [
    "df_all['unique_terminals_28d'] = (\n",
    "    df_all.sort_values(['CUSTOMER_ID', 'datetime'])\n",
    "         .groupby('CUSTOMER_ID')\n",
    "         .rolling('28D', on='datetime')['TERMINAL_ID']\n",
    "         .apply(lambda x: x.nunique(), raw=False)\n",
    "         .reset_index(level=0, drop=True)\n",
    "         .reset_index(drop=True)\n",
    ")\n",
    "\n",
    "\n",
    "df_all['unique_terminals_28d'] = df_all['unique_terminals_28d'].fillna(0)\n"
   ]
  },
  {
   "cell_type": "code",
   "execution_count": 15,
   "id": "9044978c",
   "metadata": {},
   "outputs": [
    {
     "data": {
      "text/plain": [
       "-0.6683984339086946"
      ]
     },
     "execution_count": 15,
     "metadata": {},
     "output_type": "execute_result"
    }
   ],
   "source": [
    "df_all['unique_terminals_28d'].skew()"
   ]
  },
  {
   "cell_type": "code",
   "execution_count": 16,
   "id": "3502d2e0",
   "metadata": {},
   "outputs": [],
   "source": [
    " df_all['is_new_terminal'] = (\n",
    "    df_all.groupby('CUSTOMER_ID')['TERMINAL_ID']\n",
    "         .transform(lambda x: ~x.duplicated())\n",
    ").astype(int)\n"
   ]
  },
  {
   "cell_type": "code",
   "execution_count": 17,
   "id": "178e2d62",
   "metadata": {},
   "outputs": [
    {
     "data": {
      "text/plain": [
       "1.574778708413574"
      ]
     },
     "execution_count": 17,
     "metadata": {},
     "output_type": "execute_result"
    }
   ],
   "source": [
    "df_all['is_new_terminal'].skew()"
   ]
  },
  {
   "cell_type": "code",
   "execution_count": 18,
   "id": "242c8f33",
   "metadata": {},
   "outputs": [],
   "source": [
    "df_all['amount_mean'] = df_all.groupby('CUSTOMER_ID')['TX_AMOUNT'].transform('mean')\n",
    "df_all['amount_std'] = df_all.groupby('CUSTOMER_ID')['TX_AMOUNT'].transform('std')\n",
    "df_all['amount_zscore'] = (\n",
    "   (df_all['TX_AMOUNT'] - df_all['amount_mean']) / df_all['amount_std']\n",
    ").fillna(0)\n"
   ]
  },
  {
   "cell_type": "code",
   "execution_count": 19,
   "id": "4b217fc5",
   "metadata": {},
   "outputs": [
    {
     "name": "stderr",
     "output_type": "stream",
     "text": [
      "C:\\Users\\5520\\anaconda3\\Lib\\site-packages\\pandas\\core\\arraylike.py:396: RuntimeWarning: invalid value encountered in sqrt\n",
      "  result = getattr(ufunc, method)(*inputs, **kwargs)\n"
     ]
    },
    {
     "data": {
      "text/plain": [
       "0.6879062335637943"
      ]
     },
     "execution_count": 19,
     "metadata": {},
     "output_type": "execute_result"
    }
   ],
   "source": [
    "sqrt_zscore = np.sqrt(df_all['amount_zscore'])\n",
    "df_all['sqrt_zscore'] = np.sqrt(df_all['amount_zscore'])\n",
    "sqrt_zscore.skew()"
   ]
  },
  {
   "cell_type": "code",
   "execution_count": 20,
   "id": "a1535882",
   "metadata": {},
   "outputs": [],
   "source": [
    "df_all['amount_ratio'] = (\n",
    "    df_all['TX_AMOUNT'] / df_all['amount_mean']\n",
    ").fillna(1)\n"
   ]
  },
  {
   "cell_type": "code",
   "execution_count": 21,
   "id": "226dbe59",
   "metadata": {},
   "outputs": [
    {
     "data": {
      "text/plain": [
       "3.804955442660139"
      ]
     },
     "execution_count": 21,
     "metadata": {},
     "output_type": "execute_result"
    }
   ],
   "source": [
    "df_all['amount_ratio'].skew()"
   ]
  },
  {
   "cell_type": "code",
   "execution_count": 22,
   "id": "0ad1b444",
   "metadata": {},
   "outputs": [
    {
     "data": {
      "text/plain": [
       "0.1413734202472882"
      ]
     },
     "execution_count": 22,
     "metadata": {},
     "output_type": "execute_result"
    }
   ],
   "source": [
    "sqrt_ratio = np.sqrt(df_all['amount_ratio'])\n",
    "df_all['sqrt_ratio'] = np.sqrt(df_all['amount_ratio'])\n",
    "\n",
    "sqrt_ratio.skew()"
   ]
  },
  {
   "cell_type": "code",
   "execution_count": 23,
   "id": "95df877f",
   "metadata": {},
   "outputs": [],
   "source": [
    "df_all['is_weekend'] = df_all['datetime'].dt.weekday >= 5  # Saturday=5, Sunday=6\n",
    "df_all['is_weekend'] = df_all['is_weekend'].astype(int)"
   ]
  },
  {
   "cell_type": "code",
   "execution_count": 24,
   "id": "9d5c420e",
   "metadata": {},
   "outputs": [
    {
     "data": {
      "text/plain": [
       "0.9265724265354897"
      ]
     },
     "execution_count": 24,
     "metadata": {},
     "output_type": "execute_result"
    }
   ],
   "source": [
    "df_all['is_weekend'].skew()"
   ]
  },
  {
   "cell_type": "code",
   "execution_count": 25,
   "id": "ee2ca62f",
   "metadata": {},
   "outputs": [
    {
     "data": {
      "image/png": "[encoded data removed]",
      "text/plain": [
       "<Figure size 700x500 with 1 Axes>"
      ]
     },
     "metadata": {},
     "output_type": "display_data"
    }
   ],
   "source": [
    "# Plotting the histogram of std_amt_14\n",
    "log_vals = np.log1p(df_all['std_tx_amt_14d'])\n",
    "plt.figure(figsize=(7, 5))\n",
    "plt.hist(log_vals, bins=50, color='#ff7f50', edgecolor='white')\n",
    "plt.title('Distribution of std_amt_14')\n",
    "plt.xlabel('std_amt_14')\n",
    "plt.ylabel('Count')\n",
    "plt.show()"
   ]
  },
  {
   "cell_type": "code",
   "execution_count": 26,
   "id": "14399148",
   "metadata": {},
   "outputs": [
    {
     "data": {
      "text/plain": [
       "-0.6234364098264098"
      ]
     },
     "execution_count": 26,
     "metadata": {},
     "output_type": "execute_result"
    }
   ],
   "source": [
    "log_vals.skew()"
   ]
  },
  {
   "cell_type": "code",
   "execution_count": 27,
   "id": "60f60e8e",
   "metadata": {},
   "outputs": [
    {
     "data": {
      "image/png": "[encoded data removed]",
      "text/plain": [
       "<Figure size 700x500 with 1 Axes>"
      ]
     },
     "metadata": {},
     "output_type": "display_data"
    }
   ],
   "source": [
    "log_vals_fraud_count = np.log10(df_all['fraud_count']+0.001) \n",
    "#sqrt_vals = np.power(X['fraud_count'],4)\n",
    "#from sklearn.preprocessing import PowerTransformer\n",
    "\n",
    "#transformer = PowerTransformer(method='yeo-johnson')\n",
    "#yeo_vals = transformer.fit_transform(X[['fraud_count']])\n",
    "\n",
    "plt.figure(figsize=(7, 5))\n",
    "plt.hist(log_vals_fraud_count, bins=50, color='#ff7f50', edgecolor='white')\n",
    "plt.title('Distribution of fraud_count')\n",
    "plt.xlabel('fraud_count')\n",
    "plt.ylabel('Count')\n",
    "plt.show()"
   ]
  },
  {
   "cell_type": "code",
   "execution_count": 28,
   "id": "0d6eb397",
   "metadata": {},
   "outputs": [
    {
     "data": {
      "text/plain": [
       "0.32077679292218464"
      ]
     },
     "execution_count": 28,
     "metadata": {},
     "output_type": "execute_result"
    }
   ],
   "source": [
    "log_vals_fraud_count.skew()"
   ]
  },
  {
   "cell_type": "code",
   "execution_count": 29,
   "id": "09a0e60b",
   "metadata": {},
   "outputs": [
    {
     "data": {
      "image/png": "[encoded data removed]",
      "text/plain": [
       "<Figure size 700x500 with 1 Axes>"
      ]
     },
     "metadata": {},
     "output_type": "display_data"
    }
   ],
   "source": [
    "#log_vals_fraud_amt = np.log10(X['fraud_amt']+0.001)\n",
    "#log_vals_fraud_amt = np.sqrt(X['fraud_amt'])\n",
    "from sklearn.preprocessing import PowerTransformer\n",
    "\n",
    "transformer = PowerTransformer(method='yeo-johnson')\n",
    "log_vals_fraud_amt = transformer.fit_transform(df_all[['fraud_amt']])\n",
    "plt.figure(figsize=(7, 5))\n",
    "plt.hist(log_vals_fraud_amt, bins=50, color='#ff7f50', edgecolor='white')\n",
    "plt.title('Distribution of fraud_amt')\n",
    "plt.xlabel('fraud_amt')\n",
    "plt.ylabel('Count')\n",
    "plt.show()"
   ]
  },
  {
   "cell_type": "code",
   "execution_count": 30,
   "id": "846d85a8",
   "metadata": {},
   "outputs": [],
   "source": [
    "#log_vals_fraud_amt.skew()"
   ]
  },
  {
   "cell_type": "code",
   "execution_count": 31,
   "id": "45940152",
   "metadata": {},
   "outputs": [],
   "source": [
    "df_all.drop(columns=['amount_mean', 'amount_std'], inplace=True) "
   ]
  },
  {
   "cell_type": "code",
   "execution_count": 32,
   "id": "caf4fb64",
   "metadata": {},
   "outputs": [],
   "source": [
    "from sklearn.model_selection import train_test_split\n",
    "\n",
    "df = df_all.drop(columns = ['TX_DATETIME','datetime','date','TX_FRAUD_SCENARIO','TX_TIME_SECONDS','TX_TIME_DAYS'])\n",
    "\n",
    "#df['TX_TIME_SECONDS'] = pd.to_numeric(df['TX_TIME_SECONDS'], errors='coerce')\n",
    "#df['TX_TIME_DAYS'] = pd.to_numeric(df['TX_TIME_DAYS'], errors='coerce')\n",
    "df['CUSTOMER_ID'] = pd.to_numeric(df['CUSTOMER_ID'], errors='coerce')\n",
    "df['TERMINAL_ID'] = pd.to_numeric(df['TERMINAL_ID'], errors='coerce')\n",
    "# Define your split point (e.g., 70% of the data for training)\n",
    "\n",
    "\n"
   ]
  },
  {
   "cell_type": "code",
   "execution_count": 33,
   "id": "8bd0bb4d",
   "metadata": {},
   "outputs": [
    {
     "name": "stdout",
     "output_type": "stream",
     "text": [
      "<class 'pandas.core.frame.DataFrame'>\n",
      "RangeIndex: 1754155 entries, 0 to 1754154\n",
      "Data columns (total 18 columns):\n",
      " #   Column                Dtype  \n",
      "---  ------                -----  \n",
      " 0   TRANSACTION_ID        int64  \n",
      " 1   CUSTOMER_ID           int64  \n",
      " 2   TERMINAL_ID           int64  \n",
      " 3   TX_AMOUNT             float64\n",
      " 4   TX_FRAUD              int64  \n",
      " 5   fraud_amt             int32  \n",
      " 6   fraud_count           int32  \n",
      " 7   log_vals_frdcount     float64\n",
      " 8   avg_tx_amt_14d        float64\n",
      " 9   std_tx_amt_14d        float64\n",
      " 10  log_vals_std          float64\n",
      " 11  unique_terminals_28d  float64\n",
      " 12  is_new_terminal       int32  \n",
      " 13  amount_zscore         float64\n",
      " 14  sqrt_zscore           float64\n",
      " 15  amount_ratio          float64\n",
      " 16  sqrt_ratio            float64\n",
      " 17  is_weekend            int32  \n",
      "dtypes: float64(10), int32(4), int64(4)\n",
      "memory usage: 214.1 MB\n"
     ]
    }
   ],
   "source": [
    "df.info()"
   ]
  },
  {
   "cell_type": "code",
   "execution_count": 34,
   "id": "bf845b7a",
   "metadata": {},
   "outputs": [
    {
     "name": "stdout",
     "output_type": "stream",
     "text": [
      "Training set (normal only): (1387361, 17)\n",
      "Validation set (normal + fraud): (366794, 17) 0    346841\n",
      "1     19953\n",
      "Name: count, dtype: int64\n",
      "Test set (normal + fraud): (1387361, 17) TX_FRAUD\n",
      "0    1387361\n",
      "Name: count, dtype: int64\n"
     ]
    }
   ],
   "source": [
    "X = df.drop(columns = ['TX_FRAUD'])\n",
    "y = df['TX_FRAUD']\n",
    "\n",
    "\n",
    "# First split into training and temporary set\n",
    "X_normal = X[y == 0]  # only non-fraud transactions\n",
    "X_fraud = X[y == 1]  # fraud transactions (anomalous)\n",
    "\n",
    "# Step 1: Create normal-only training set\n",
    "X_train, X_cv_normal = train_test_split(X_normal, test_size=0.2, random_state=42)\n",
    "\n",
    "# Step 2: Add frauds to validation set\n",
    "X_cv = pd.concat([X_cv_normal, X_fraud], axis=0)\n",
    "y_cv = pd.Series([0]*len(X_cv_normal) + [1]*len(X_fraud), index=X_cv.index)\n",
    "# Test will be a mixture of normal and fraud\n",
    "X_test, y_test = X.loc[X.index.difference(X_cv.index)], y.loc[X.index.difference(X_cv.index)]\n",
    "\n",
    "print(\"Training set (normal only):\", X_train.shape)\n",
    "print(\"Validation set (normal + fraud):\", X_cv.shape, y_cv.value_counts()) \n",
    "print(\"Test set (normal + fraud):\", X_test.shape, y_test.value_counts()) \n"
   ]
  },
  {
   "cell_type": "code",
   "execution_count": 35,
   "id": "3a6ec90a",
   "metadata": {},
   "outputs": [],
   "source": [
    "num_features =['TX_AMOUNT','fraud_amt','fraud_count','log_vals_frdcount','avg_tx_amt_14d','std_tx_amt_14d','log_vals_std','sqrt_zscore','sqrt_ratio']"
   ]
  },
  {
   "cell_type": "code",
   "execution_count": 36,
   "id": "30ab68f4",
   "metadata": {},
   "outputs": [],
   "source": [
    "from sklearn.preprocessing import StandardScaler\n",
    "categorical = [col for col in X.columns if col not in num_features]\n",
    "# Then fit scaler on training only\n",
    "scaler = StandardScaler()\n",
    "scaler.fit(X_train[num_features])\n",
    "\n",
    "# Transform both\n",
    "X_train_scaled = scaler.transform(X_train[num_features])\n",
    "X_cv_scaled = scaler.transform(X_cv[num_features])\n",
    "X_test_scaled = scaler.transform(X_test[num_features])\n",
    "\n",
    "X_train = np.hstack([X_train_scaled, X_train[categorical].values]) #X_train[categorical].values] df converted into numpy array\n",
    "X_cv = np.hstack([X_cv_scaled, X_cv[categorical].values])\n",
    "X_test = np.hstack([X_test_scaled, X_test[categorical].values])"
   ]
  },
  {
   "cell_type": "code",
   "execution_count": 37,
   "id": "578c436f",
   "metadata": {},
   "outputs": [
    {
     "data": {
      "text/html": [
       "<style>#sk-container-id-1 {\n",
       "  /* Definition of color scheme common for light and dark mode */\n",
       "  --sklearn-color-text: #000;\n",
       "  --sklearn-color-text-muted: #666;\n",
       "  --sklearn-color-line: gray;\n",
       "  /* Definition of color scheme for unfitted estimators */\n",
       "  --sklearn-color-unfitted-level-0: #fff5e6;\n",
       "  --sklearn-color-unfitted-level-1: #f6e4d2;\n",
       "  --sklearn-color-unfitted-level-2: #ffe0b3;\n",
       "  --sklearn-color-unfitted-level-3: chocolate;\n",
       "  /* Definition of color scheme for fitted estimators */\n",
       "  --sklearn-color-fitted-level-0: #f0f8ff;\n",
       "  --sklearn-color-fitted-level-1: #d4ebff;\n",
       "  --sklearn-color-fitted-level-2: #b3dbfd;\n",
       "  --sklearn-color-fitted-level-3: cornflowerblue;\n",
       "\n",
       "  /* Specific color for light theme */\n",
       "  --sklearn-color-text-on-default-background: var(--sg-text-color, var(--theme-code-foreground, var(--jp-content-font-color1, black)));\n",
       "  --sklearn-color-background: var(--sg-background-color, var(--theme-background, var(--jp-layout-color0, white)));\n",
       "  --sklearn-color-border-box: var(--sg-text-color, var(--theme-code-foreground, var(--jp-content-font-color1, black)));\n",
       "  --sklearn-color-icon: #696969;\n",
       "\n",
       "  @media (prefers-color-scheme: dark) {\n",
       "    /* Redefinition of color scheme for dark theme */\n",
       "    --sklearn-color-text-on-default-background: var(--sg-text-color, var(--theme-code-foreground, var(--jp-content-font-color1, white)));\n",
       "    --sklearn-color-background: var(--sg-background-color, var(--theme-background, var(--jp-layout-color0, #111)));\n",
       "    --sklearn-color-border-box: var(--sg-text-color, var(--theme-code-foreground, var(--jp-content-font-color1, white)));\n",
       "    --sklearn-color-icon: #878787;\n",
       "  }\n",
       "}\n",
       "\n",
       "#sk-container-id-1 {\n",
       "  color: var(--sklearn-color-text);\n",
       "}\n",
       "\n",
       "#sk-container-id-1 pre {\n",
       "  padding: 0;\n",
       "}\n",
       "\n",
       "#sk-container-id-1 input.sk-hidden--visually {\n",
       "  border: 0;\n",
       "  clip: rect(1px 1px 1px 1px);\n",
       "  clip: rect(1px, 1px, 1px, 1px);\n",
       "  height: 1px;\n",
       "  margin: -1px;\n",
       "  overflow: hidden;\n",
       "  padding: 0;\n",
       "  position: absolute;\n",
       "  width: 1px;\n",
       "}\n",
       "\n",
       "#sk-container-id-1 div.sk-dashed-wrapped {\n",
       "  border: 1px dashed var(--sklearn-color-line);\n",
       "  margin: 0 0.4em 0.5em 0.4em;\n",
       "  box-sizing: border-box;\n",
       "  padding-bottom: 0.4em;\n",
       "  background-color: var(--sklearn-color-background);\n",
       "}\n",
       "\n",
       "#sk-container-id-1 div.sk-container {\n",
       "  /* jupyter's `normalize.less` sets `[hidden] { display: none; }`\n",
       "     but bootstrap.min.css set `[hidden] { display: none !important; }`\n",
       "     so we also need the `!important` here to be able to override the\n",
       "     default hidden behavior on the sphinx rendered scikit-learn.org.\n",
       "     See: https://github.com/scikit-learn/scikit-learn/issues/21755 */\n",
       "  display: inline-block !important;\n",
       "  position: relative;\n",
       "}\n",
       "\n",
       "#sk-container-id-1 div.sk-text-repr-fallback {\n",
       "  display: none;\n",
       "}\n",
       "\n",
       "div.sk-parallel-item,\n",
       "div.sk-serial,\n",
       "div.sk-item {\n",
       "  /* draw centered vertical line to link estimators */\n",
       "  background-image: linear-gradient(var(--sklearn-color-text-on-default-background), var(--sklearn-color-text-on-default-background));\n",
       "  background-size: 2px 100%;\n",
       "  background-repeat: no-repeat;\n",
       "  background-position: center center;\n",
       "}\n",
       "\n",
       "/* Parallel-specific style estimator block */\n",
       "\n",
       "#sk-container-id-1 div.sk-parallel-item::after {\n",
       "  content: \"\";\n",
       "  width: 100%;\n",
       "  border-bottom: 2px solid var(--sklearn-color-text-on-default-background);\n",
       "  flex-grow: 1;\n",
       "}\n",
       "\n",
       "#sk-container-id-1 div.sk-parallel {\n",
       "  display: flex;\n",
       "  align-items: stretch;\n",
       "  justify-content: center;\n",
       "  background-color: var(--sklearn-color-background);\n",
       "  position: relative;\n",
       "}\n",
       "\n",
       "#sk-container-id-1 div.sk-parallel-item {\n",
       "  display: flex;\n",
       "  flex-direction: column;\n",
       "}\n",
       "\n",
       "#sk-container-id-1 div.sk-parallel-item:first-child::after {\n",
       "  align-self: flex-end;\n",
       "  width: 50%;\n",
       "}\n",
       "\n",
       "#sk-container-id-1 div.sk-parallel-item:last-child::after {\n",
       "  align-self: flex-start;\n",
       "  width: 50%;\n",
       "}\n",
       "\n",
       "#sk-container-id-1 div.sk-parallel-item:only-child::after {\n",
       "  width: 0;\n",
       "}\n",
       "\n",
       "/* Serial-specific style estimator block */\n",
       "\n",
       "#sk-container-id-1 div.sk-serial {\n",
       "  display: flex;\n",
       "  flex-direction: column;\n",
       "  align-items: center;\n",
       "  background-color: var(--sklearn-color-background);\n",
       "  padding-right: 1em;\n",
       "  padding-left: 1em;\n",
       "}\n",
       "\n",
       "\n",
       "/* Toggleable style: style used for estimator/Pipeline/ColumnTransformer box that is\n",
       "clickable and can be expanded/collapsed.\n",
       "- Pipeline and ColumnTransformer use this feature and define the default style\n",
       "- Estimators will overwrite some part of the style using the `sk-estimator` class\n",
       "*/\n",
       "\n",
       "/* Pipeline and ColumnTransformer style (default) */\n",
       "\n",
       "#sk-container-id-1 div.sk-toggleable {\n",
       "  /* Default theme specific background. It is overwritten whether we have a\n",
       "  specific estimator or a Pipeline/ColumnTransformer */\n",
       "  background-color: var(--sklearn-color-background);\n",
       "}\n",
       "\n",
       "/* Toggleable label */\n",
       "#sk-container-id-1 label.sk-toggleable__label {\n",
       "  cursor: pointer;\n",
       "  display: flex;\n",
       "  width: 100%;\n",
       "  margin-bottom: 0;\n",
       "  padding: 0.5em;\n",
       "  box-sizing: border-box;\n",
       "  text-align: center;\n",
       "  align-items: start;\n",
       "  justify-content: space-between;\n",
       "  gap: 0.5em;\n",
       "}\n",
       "\n",
       "#sk-container-id-1 label.sk-toggleable__label .caption {\n",
       "  font-size: 0.6rem;\n",
       "  font-weight: lighter;\n",
       "  color: var(--sklearn-color-text-muted);\n",
       "}\n",
       "\n",
       "#sk-container-id-1 label.sk-toggleable__label-arrow:before {\n",
       "  /* Arrow on the left of the label */\n",
       "  content: \"▸\";\n",
       "  float: left;\n",
       "  margin-right: 0.25em;\n",
       "  color: var(--sklearn-color-icon);\n",
       "}\n",
       "\n",
       "#sk-container-id-1 label.sk-toggleable__label-arrow:hover:before {\n",
       "  color: var(--sklearn-color-text);\n",
       "}\n",
       "\n",
       "/* Toggleable content - dropdown */\n",
       "\n",
       "#sk-container-id-1 div.sk-toggleable__content {\n",
       "  max-height: 0;\n",
       "  max-width: 0;\n",
       "  overflow: hidden;\n",
       "  text-align: left;\n",
       "  /* unfitted */\n",
       "  background-color: var(--sklearn-color-unfitted-level-0);\n",
       "}\n",
       "\n",
       "#sk-container-id-1 div.sk-toggleable__content.fitted {\n",
       "  /* fitted */\n",
       "  background-color: var(--sklearn-color-fitted-level-0);\n",
       "}\n",
       "\n",
       "#sk-container-id-1 div.sk-toggleable__content pre {\n",
       "  margin: 0.2em;\n",
       "  border-radius: 0.25em;\n",
       "  color: var(--sklearn-color-text);\n",
       "  /* unfitted */\n",
       "  background-color: var(--sklearn-color-unfitted-level-0);\n",
       "}\n",
       "\n",
       "#sk-container-id-1 div.sk-toggleable__content.fitted pre {\n",
       "  /* unfitted */\n",
       "  background-color: var(--sklearn-color-fitted-level-0);\n",
       "}\n",
       "\n",
       "#sk-container-id-1 input.sk-toggleable__control:checked~div.sk-toggleable__content {\n",
       "  /* Expand drop-down */\n",
       "  max-height: 200px;\n",
       "  max-width: 100%;\n",
       "  overflow: auto;\n",
       "}\n",
       "\n",
       "#sk-container-id-1 input.sk-toggleable__control:checked~label.sk-toggleable__label-arrow:before {\n",
       "  content: \"▾\";\n",
       "}\n",
       "\n",
       "/* Pipeline/ColumnTransformer-specific style */\n",
       "\n",
       "#sk-container-id-1 div.sk-label input.sk-toggleable__control:checked~label.sk-toggleable__label {\n",
       "  color: var(--sklearn-color-text);\n",
       "  background-color: var(--sklearn-color-unfitted-level-2);\n",
       "}\n",
       "\n",
       "#sk-container-id-1 div.sk-label.fitted input.sk-toggleable__control:checked~label.sk-toggleable__label {\n",
       "  background-color: var(--sklearn-color-fitted-level-2);\n",
       "}\n",
       "\n",
       "/* Estimator-specific style */\n",
       "\n",
       "/* Colorize estimator box */\n",
       "#sk-container-id-1 div.sk-estimator input.sk-toggleable__control:checked~label.sk-toggleable__label {\n",
       "  /* unfitted */\n",
       "  background-color: var(--sklearn-color-unfitted-level-2);\n",
       "}\n",
       "\n",
       "#sk-container-id-1 div.sk-estimator.fitted input.sk-toggleable__control:checked~label.sk-toggleable__label {\n",
       "  /* fitted */\n",
       "  background-color: var(--sklearn-color-fitted-level-2);\n",
       "}\n",
       "\n",
       "#sk-container-id-1 div.sk-label label.sk-toggleable__label,\n",
       "#sk-container-id-1 div.sk-label label {\n",
       "  /* The background is the default theme color */\n",
       "  color: var(--sklearn-color-text-on-default-background);\n",
       "}\n",
       "\n",
       "/* On hover, darken the color of the background */\n",
       "#sk-container-id-1 div.sk-label:hover label.sk-toggleable__label {\n",
       "  color: var(--sklearn-color-text);\n",
       "  background-color: var(--sklearn-color-unfitted-level-2);\n",
       "}\n",
       "\n",
       "/* Label box, darken color on hover, fitted */\n",
       "#sk-container-id-1 div.sk-label.fitted:hover label.sk-toggleable__label.fitted {\n",
       "  color: var(--sklearn-color-text);\n",
       "  background-color: var(--sklearn-color-fitted-level-2);\n",
       "}\n",
       "\n",
       "/* Estimator label */\n",
       "\n",
       "#sk-container-id-1 div.sk-label label {\n",
       "  font-family: monospace;\n",
       "  font-weight: bold;\n",
       "  display: inline-block;\n",
       "  line-height: 1.2em;\n",
       "}\n",
       "\n",
       "#sk-container-id-1 div.sk-label-container {\n",
       "  text-align: center;\n",
       "}\n",
       "\n",
       "/* Estimator-specific */\n",
       "#sk-container-id-1 div.sk-estimator {\n",
       "  font-family: monospace;\n",
       "  border: 1px dotted var(--sklearn-color-border-box);\n",
       "  border-radius: 0.25em;\n",
       "  box-sizing: border-box;\n",
       "  margin-bottom: 0.5em;\n",
       "  /* unfitted */\n",
       "  background-color: var(--sklearn-color-unfitted-level-0);\n",
       "}\n",
       "\n",
       "#sk-container-id-1 div.sk-estimator.fitted {\n",
       "  /* fitted */\n",
       "  background-color: var(--sklearn-color-fitted-level-0);\n",
       "}\n",
       "\n",
       "/* on hover */\n",
       "#sk-container-id-1 div.sk-estimator:hover {\n",
       "  /* unfitted */\n",
       "  background-color: var(--sklearn-color-unfitted-level-2);\n",
       "}\n",
       "\n",
       "#sk-container-id-1 div.sk-estimator.fitted:hover {\n",
       "  /* fitted */\n",
       "  background-color: var(--sklearn-color-fitted-level-2);\n",
       "}\n",
       "\n",
       "/* Specification for estimator info (e.g. \"i\" and \"?\") */\n",
       "\n",
       "/* Common style for \"i\" and \"?\" */\n",
       "\n",
       ".sk-estimator-doc-link,\n",
       "a:link.sk-estimator-doc-link,\n",
       "a:visited.sk-estimator-doc-link {\n",
       "  float: right;\n",
       "  font-size: smaller;\n",
       "  line-height: 1em;\n",
       "  font-family: monospace;\n",
       "  background-color: var(--sklearn-color-background);\n",
       "  border-radius: 1em;\n",
       "  height: 1em;\n",
       "  width: 1em;\n",
       "  text-decoration: none !important;\n",
       "  margin-left: 0.5em;\n",
       "  text-align: center;\n",
       "  /* unfitted */\n",
       "  border: var(--sklearn-color-unfitted-level-1) 1pt solid;\n",
       "  color: var(--sklearn-color-unfitted-level-1);\n",
       "}\n",
       "\n",
       ".sk-estimator-doc-link.fitted,\n",
       "a:link.sk-estimator-doc-link.fitted,\n",
       "a:visited.sk-estimator-doc-link.fitted {\n",
       "  /* fitted */\n",
       "  border: var(--sklearn-color-fitted-level-1) 1pt solid;\n",
       "  color: var(--sklearn-color-fitted-level-1);\n",
       "}\n",
       "\n",
       "/* On hover */\n",
       "div.sk-estimator:hover .sk-estimator-doc-link:hover,\n",
       ".sk-estimator-doc-link:hover,\n",
       "div.sk-label-container:hover .sk-estimator-doc-link:hover,\n",
       ".sk-estimator-doc-link:hover {\n",
       "  /* unfitted */\n",
       "  background-color: var(--sklearn-color-unfitted-level-3);\n",
       "  color: var(--sklearn-color-background);\n",
       "  text-decoration: none;\n",
       "}\n",
       "\n",
       "div.sk-estimator.fitted:hover .sk-estimator-doc-link.fitted:hover,\n",
       ".sk-estimator-doc-link.fitted:hover,\n",
       "div.sk-label-container:hover .sk-estimator-doc-link.fitted:hover,\n",
       ".sk-estimator-doc-link.fitted:hover {\n",
       "  /* fitted */\n",
       "  background-color: var(--sklearn-color-fitted-level-3);\n",
       "  color: var(--sklearn-color-background);\n",
       "  text-decoration: none;\n",
       "}\n",
       "\n",
       "/* Span, style for the box shown on hovering the info icon */\n",
       ".sk-estimator-doc-link span {\n",
       "  display: none;\n",
       "  z-index: 9999;\n",
       "  position: relative;\n",
       "  font-weight: normal;\n",
       "  right: .2ex;\n",
       "  padding: .5ex;\n",
       "  margin: .5ex;\n",
       "  width: min-content;\n",
       "  min-width: 20ex;\n",
       "  max-width: 50ex;\n",
       "  color: var(--sklearn-color-text);\n",
       "  box-shadow: 2pt 2pt 4pt #999;\n",
       "  /* unfitted */\n",
       "  background: var(--sklearn-color-unfitted-level-0);\n",
       "  border: .5pt solid var(--sklearn-color-unfitted-level-3);\n",
       "}\n",
       "\n",
       ".sk-estimator-doc-link.fitted span {\n",
       "  /* fitted */\n",
       "  background: var(--sklearn-color-fitted-level-0);\n",
       "  border: var(--sklearn-color-fitted-level-3);\n",
       "}\n",
       "\n",
       ".sk-estimator-doc-link:hover span {\n",
       "  display: block;\n",
       "}\n",
       "\n",
       "/* \"?\"-specific style due to the `<a>` HTML tag */\n",
       "\n",
       "#sk-container-id-1 a.estimator_doc_link {\n",
       "  float: right;\n",
       "  font-size: 1rem;\n",
       "  line-height: 1em;\n",
       "  font-family: monospace;\n",
       "  background-color: var(--sklearn-color-background);\n",
       "  border-radius: 1rem;\n",
       "  height: 1rem;\n",
       "  width: 1rem;\n",
       "  text-decoration: none;\n",
       "  /* unfitted */\n",
       "  color: var(--sklearn-color-unfitted-level-1);\n",
       "  border: var(--sklearn-color-unfitted-level-1) 1pt solid;\n",
       "}\n",
       "\n",
       "#sk-container-id-1 a.estimator_doc_link.fitted {\n",
       "  /* fitted */\n",
       "  border: var(--sklearn-color-fitted-level-1) 1pt solid;\n",
       "  color: var(--sklearn-color-fitted-level-1);\n",
       "}\n",
       "\n",
       "/* On hover */\n",
       "#sk-container-id-1 a.estimator_doc_link:hover {\n",
       "  /* unfitted */\n",
       "  background-color: var(--sklearn-color-unfitted-level-3);\n",
       "  color: var(--sklearn-color-background);\n",
       "  text-decoration: none;\n",
       "}\n",
       "\n",
       "#sk-container-id-1 a.estimator_doc_link.fitted:hover {\n",
       "  /* fitted */\n",
       "  background-color: var(--sklearn-color-fitted-level-3);\n",
       "}\n",
       "</style><div id=\"sk-container-id-1\" class=\"sk-top-container\"><div class=\"sk-text-repr-fallback\"><pre>IsolationForest(random_state=42)</pre><b>In a Jupyter environment, please rerun this cell to show the HTML representation or trust the notebook. <br />On GitHub, the HTML representation is unable to render, please try loading this page with nbviewer.org.</b></div><div class=\"sk-container\" hidden><div class=\"sk-item\"><div class=\"sk-estimator fitted sk-toggleable\"><input class=\"sk-toggleable__control sk-hidden--visually\" id=\"sk-estimator-id-1\" type=\"checkbox\" checked><label for=\"sk-estimator-id-1\" class=\"sk-toggleable__label fitted sk-toggleable__label-arrow\"><div><div>IsolationForest</div></div><div><a class=\"sk-estimator-doc-link fitted\" rel=\"noreferrer\" target=\"_blank\" href=\"https://scikit-learn.org/1.6/modules/generated/sklearn.ensemble.IsolationForest.html\">?<span>Documentation for IsolationForest</span></a><span class=\"sk-estimator-doc-link fitted\">i<span>Fitted</span></span></div></label><div class=\"sk-toggleable__content fitted\"><pre>IsolationForest(random_state=42)</pre></div> </div></div></div></div>"
      ],
      "text/plain": [
       "IsolationForest(random_state=42)"
      ]
     },
     "execution_count": 37,
     "metadata": {},
     "output_type": "execute_result"
    }
   ],
   "source": [
    "from sklearn.ensemble import IsolationForest\n",
    "\n",
    "model = IsolationForest(n_estimators=100, contamination='auto', random_state=42)\n",
    "model.fit(X_train)\n"
   ]
  },
  {
   "cell_type": "code",
   "execution_count": 38,
   "id": "a5933c01",
   "metadata": {},
   "outputs": [],
   "source": [
    "y_pred_cv = model.predict(X_cv)  # -1 for anomaly, 1 for normal\n",
    "y_pred_test = model.predict(X_test)\n"
   ]
  },
  {
   "cell_type": "code",
   "execution_count": 39,
   "id": "27a5623f",
   "metadata": {},
   "outputs": [],
   "source": [
    "y_pred_cv = [1 if x == -1 else 0 for x in y_pred_cv]\n",
    "y_pred_test = [1 if x == -1 else 0 for x in y_pred_test]\n"
   ]
  },
  {
   "cell_type": "code",
   "execution_count": 40,
   "id": "a4352ad6",
   "metadata": {},
   "outputs": [
    {
     "name": "stdout",
     "output_type": "stream",
     "text": [
      "Validation AUC : 0.8749794707035962\n",
      "Validation F1 : 0.3320205377051421\n",
      "Validation confusion_matrix : [[269173  77668]\n",
      " [   521  19432]]\n",
      "Classification Report:\n",
      "               precision    recall  f1-score   support\n",
      "\n",
      "           0       1.00      0.78      0.87    346841\n",
      "           1       0.20      0.97      0.33     19953\n",
      "\n",
      "    accuracy                           0.79    366794\n",
      "   macro avg       0.60      0.87      0.60    366794\n",
      "weighted avg       0.95      0.79      0.84    366794\n",
      "\n"
     ]
    }
   ],
   "source": [
    "from sklearn.metrics import roc_auc_score, f1_score, confusion_matrix, classification_report\n",
    "\n",
    "print(\"Validation AUC :\", roc_auc_score(y_cv, y_pred_cv))\n",
    "print(\"Validation F1 :\", f1_score(y_cv, y_pred_cv))\n",
    "print(\"Validation confusion_matrix :\", confusion_matrix(y_cv, y_pred_cv))\n",
    "print(\"Classification Report:\\n\", classification_report(y_cv, y_pred_cv))\n"
   ]
  },
  {
   "cell_type": "code",
   "execution_count": null,
   "id": "526200c9",
   "metadata": {},
   "outputs": [],
   "source": []
  }
 ],
 "metadata": {
  "kernelspec": {
   "display_name": "Python 3 (ipykernel)",
   "language": "python",
   "name": "python3"
  },
  "language_info": {
   "codemirror_mode": {
    "name": "ipython",
    "version": 3
   },
   "file_extension": ".py",
   "mimetype": "text/x-python",
   "name": "python",
   "nbconvert_exporter": "python",
   "pygments_lexer": "ipython3",
   "version": "3.11.5"
  }
 },
 "nbformat": 4,
 "nbformat_minor": 5
}
