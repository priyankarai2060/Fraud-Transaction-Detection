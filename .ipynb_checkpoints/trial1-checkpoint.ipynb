{
 "cells": [
  {
   "cell_type": "code",
   "execution_count": 1,
   "id": "3c890bca",
   "metadata": {},
   "outputs": [],
   "source": [
    "import pandas as pd\n",
    "import glob\n",
    "import numpy as np\n",
    "from datetime import timedelta\n"
   ]
  },
  {
   "cell_type": "code",
   "execution_count": 2,
   "id": "f5006116",
   "metadata": {},
   "outputs": [],
   "source": [
    "from sklearn.model_selection import train_test_split\n",
    "from sklearn.pipeline import Pipeline\n",
    "#from sklearn.preprocessing import StandardScaler\n",
    "#from sklearn.linear_model import LogisticRegression\n",
    "#from sklearn.compose import ColumnTransformer\n",
    "#from xgboost import XGBClassifier"
   ]
  },
  {
   "cell_type": "code",
   "execution_count": 3,
   "id": "80fbee11",
   "metadata": {},
   "outputs": [],
   "source": [
    "import matplotlib.pyplot as plt\n",
    "import numpy as np"
   ]
  },
  {
   "cell_type": "code",
   "execution_count": 4,
   "id": "bd60ec0c",
   "metadata": {},
   "outputs": [],
   "source": [
    "data_path = \"D:/unified_metor_content/fraud_detection/fraud_detection/\" \n",
    "\n",
    "file_list = sorted(glob.glob(data_path + \"*.pkl\"))\n",
    "\n",
    "# Read and concatenate all daily files\n",
    "df_all = pd.concat([pd.read_pickle(file) for file in file_list], ignore_index=True)"
   ]
  },
  {
   "cell_type": "code",
   "execution_count": 5,
   "id": "d05dcd8f",
   "metadata": {},
   "outputs": [],
   "source": [
    "df_all[\"fraud_amt\"] = (df_all[\"TX_AMOUNT\"] > 220).astype(int)"
   ]
  },
  {
   "cell_type": "code",
   "execution_count": 6,
   "id": "b3ddba19",
   "metadata": {},
   "outputs": [],
   "source": [
    "fraud_counts= df_all[df_all['TX_FRAUD'] == 1].groupby('TERMINAL_ID').size()\n",
    "df_all['fraud_count'] = df_all['TERMINAL_ID'].map(fraud_counts).fillna(0).astype(int)\n"
   ]
  },
  {
   "cell_type": "code",
   "execution_count": 7,
   "id": "7151a46b",
   "metadata": {},
   "outputs": [],
   "source": [
    "log_vals_frdcount = np.log10(df_all['fraud_count']+0.001)\n",
    "log_vals_frdcount.skew()\n",
    "df_all['log_vals_frdcount'] = np.log10(df_all['fraud_count']+0.001)"
   ]
  },
  {
   "cell_type": "code",
   "execution_count": 8,
   "id": "79aff6b8",
   "metadata": {},
   "outputs": [],
   "source": [
    "np.random.seed(42)\n",
    "\n",
    "# Parse datetime\n",
    "df_all['datetime'] = pd.to_datetime(df_all['TX_DATETIME'])\n",
    "\n",
    "# Sort by time\n",
    "df_all = df_all.sort_values('TX_DATETIME').reset_index(drop=True)\n",
    "\n",
    "# Create helper columns if not present\n",
    "if 'TX_FRAUD' not in df_all.columns:\n",
    "    df_all['TX_FRAUD'] = 0\n",
    "if 'TX_FRAUD_SCENARIO' not in df_all.columns:\n",
    "    df_all['TX_FRAUD_SCENARIO'] = 0\n",
    "\n",
    "# Add date column\n",
    "df_all['date'] = df_all['datetime'].dt.date\n",
    "df_all['date'] = df_all['datetime'].dt.floor('D')\n",
    "# Get all unique transaction dates\n",
    "unique_dates = df_all['date'].unique()\n",
    "\n",
    "# Simulate fraud\n",
    "for day in unique_dates[:-14]:\n",
    "    current_day = pd.to_datetime(day)\n",
    "    window_end = current_day + timedelta(days=14)\n",
    "\n",
    "    active_customers = df_all[df_all['date'] == day]['CUSTOMER_ID'].unique()\n",
    "\n",
    "    if len(active_customers) < 3:\n",
    "        continue\n",
    "\n",
    "    selected_customers = np.random.choice(active_customers, size=3, replace=False)\n",
    "\n",
    "    for cust_id in selected_customers:\n",
    "        mask = (\n",
    "            (df_all['CUSTOMER_ID'] == cust_id) &\n",
    "            (df_all['datetime'] > current_day) &\n",
    "            (df_all['datetime'] <= window_end)\n",
    "        )\n",
    "        cust_txns = df_all[mask]\n",
    "\n",
    "        if len(cust_txns) == 0:\n",
    "            continue\n",
    "\n",
    "        num_fraud = max(1, len(cust_txns) // 3)\n",
    "        fraud_indices = cust_txns.sample(n=num_fraud, random_state=42).index\n",
    "\n",
    "        df_all.loc[fraud_indices, 'TX_AMOUNT'] *= 5\n",
    "        df_all.loc[fraud_indices, 'TX_FRAUD'] = 1\n",
    "        df_all.loc[fraud_indices, 'TX_FRAUD_SCENARIO'] = 4"
   ]
  },
  {
   "cell_type": "code",
   "execution_count": 9,
   "id": "ebe03540",
   "metadata": {},
   "outputs": [],
   "source": [
    "df_all['datetime'] = pd.to_datetime(df_all['TX_DATETIME'])"
   ]
  },
  {
   "cell_type": "code",
   "execution_count": null,
   "id": "4d8d7f8c",
   "metadata": {},
   "outputs": [],
   "source": [
    "df_all['avg_tx_amt_14d'] = df_all.groupby('CUSTOMER_ID')['TX_AMOUNT'].transform(\n",
    "    lambda x: x.rolling(window=14, min_periods=1).mean().fillna(method='ffill')\n",
    "          .fillna(0)\n",
    ")"
   ]
  },
  {
   "cell_type": "code",
   "execution_count": null,
   "id": "91afd15f",
   "metadata": {},
   "outputs": [],
   "source": [
    "df_all['std_tx_amt_14d'] = df_all.groupby('CUSTOMER_ID')['TX_AMOUNT'].transform(\n",
    "    lambda x: x.rolling(window=14, min_periods=1).std().fillna(method='ffill')\n",
    "          .fillna(0)\n",
    ")\n"
   ]
  },
  {
   "cell_type": "code",
   "execution_count": null,
   "id": "2c8f3ecc",
   "metadata": {},
   "outputs": [],
   "source": [
    "log_vals = np.log1p(X['std_tx_amt_14d'])\n",
    "df_all['log_vals_std'] = np.log1p(X['std_tx_amt_14d'])\n",
    "log_vals.skew()"
   ]
  },
  {
   "cell_type": "code",
   "execution_count": null,
   "id": "43cb744b",
   "metadata": {},
   "outputs": [],
   "source": [
    "df_all['unique_terminals_28d'] = (\n",
    "    df_all.sort_values(['CUSTOMER_ID', 'datetime'])\n",
    "         .groupby('CUSTOMER_ID')\n",
    "         .rolling('28D', on='datetime')['TERMINAL_ID']\n",
    "         .apply(lambda x: x.nunique(), raw=False)\n",
    "         .reset_index(level=0, drop=True)\n",
    "         .reset_index(drop=True)\n",
    ")\n",
    "\n",
    "\n",
    "df_all['unique_terminals_28d'] = df_all['unique_terminals_28d'].fillna(0)\n"
   ]
  },
  {
   "cell_type": "code",
   "execution_count": null,
   "id": "afa2c015",
   "metadata": {},
   "outputs": [],
   "source": [
    "df_all['unique_terminals_28d'].skew()"
   ]
  },
  {
   "cell_type": "code",
   "execution_count": null,
   "id": "5761c233",
   "metadata": {},
   "outputs": [],
   "source": [
    " df_all['is_new_terminal'] = (\n",
    "    df_all.groupby('CUSTOMER_ID')['TERMINAL_ID']\n",
    "         .transform(lambda x: ~x.duplicated())\n",
    ").astype(int)\n"
   ]
  },
  {
   "cell_type": "code",
   "execution_count": null,
   "id": "c02a3065",
   "metadata": {},
   "outputs": [],
   "source": [
    "df_all['is_new_terminal'].skew()"
   ]
  },
  {
   "cell_type": "code",
   "execution_count": null,
   "id": "242c8f33",
   "metadata": {},
   "outputs": [],
   "source": [
    "df_all['amount_mean'] = df_all.groupby('CUSTOMER_ID')['TX_AMOUNT'].transform('mean')\n",
    "df_all['amount_std'] = df_all.groupby('CUSTOMER_ID')['TX_AMOUNT'].transform('std')\n",
    "df_all['amount_zscore'] = (\n",
    "   (df_all['TX_AMOUNT'] - df_all['amount_mean']) / df_all['amount_std']\n",
    ").fillna(0)\n"
   ]
  },
  {
   "cell_type": "code",
   "execution_count": null,
   "id": "640ffd1e",
   "metadata": {},
   "outputs": [],
   "source": [
    "sqrt_zscore = np.sqrt(df_all['amount_zscore'])\n",
    "df_all['sqrt_zscore'] = np.sqrt(df_all['amount_zscore'])\n",
    "sqrt_zscore.skew()"
   ]
  },
  {
   "cell_type": "code",
   "execution_count": null,
   "id": "9b56b792",
   "metadata": {},
   "outputs": [],
   "source": [
    "df_all['amount_ratio'] = (\n",
    "    df_all['TX_AMOUNT'] / df_all['amount_mean']\n",
    ").fillna(1)\n"
   ]
  },
  {
   "cell_type": "code",
   "execution_count": null,
   "id": "cd8885d8",
   "metadata": {},
   "outputs": [],
   "source": [
    "df_all['amount_ratio'].skew()"
   ]
  },
  {
   "cell_type": "code",
   "execution_count": null,
   "id": "e9144f9b",
   "metadata": {},
   "outputs": [],
   "source": [
    "sqrt_ratio = np.sqrt(df_all['amount_ratio'])\n",
    "df_all['sqrt_ratio'] = np.sqrt(df_all['amount_ratio'])\n",
    "\n",
    "sqrt_ratio.skew()"
   ]
  },
  {
   "cell_type": "code",
   "execution_count": null,
   "id": "1ba9eda7",
   "metadata": {},
   "outputs": [],
   "source": [
    "df_all['is_weekend'] = df_all['datetime'].dt.weekday >= 5  # Saturday=5, Sunday=6\n",
    "df_all['is_weekend'] = df_all['is_weekend'].astype(int)"
   ]
  },
  {
   "cell_type": "code",
   "execution_count": null,
   "id": "4c2dc4fb",
   "metadata": {},
   "outputs": [],
   "source": [
    "df_all['is_weekend'].skew()"
   ]
  },
  {
   "cell_type": "code",
   "execution_count": null,
   "id": "ee2ca62f",
   "metadata": {},
   "outputs": [],
   "source": [
    "# Plotting the histogram of std_amt_14\n",
    "log_vals = np.log1p(X['std_tx_amt_14d'])\n",
    "plt.figure(figsize=(7, 5))\n",
    "plt.hist(log_vals, bins=50, color='#ff7f50', edgecolor='white')\n",
    "plt.title('Distribution of std_amt_14')\n",
    "plt.xlabel('std_amt_14')\n",
    "plt.ylabel('Count')\n",
    "plt.show()"
   ]
  },
  {
   "cell_type": "code",
   "execution_count": null,
   "id": "14399148",
   "metadata": {},
   "outputs": [],
   "source": [
    "log_vals.skew()"
   ]
  },
  {
   "cell_type": "code",
   "execution_count": null,
   "id": "60f60e8e",
   "metadata": {},
   "outputs": [],
   "source": [
    "log_vals_fraud_count = np.log10(X['fraud_count']+0.001) \n",
    "#sqrt_vals = np.power(X['fraud_count'],4)\n",
    "#from sklearn.preprocessing import PowerTransformer\n",
    "\n",
    "#transformer = PowerTransformer(method='yeo-johnson')\n",
    "#yeo_vals = transformer.fit_transform(X[['fraud_count']])\n",
    "\n",
    "plt.figure(figsize=(7, 5))\n",
    "plt.hist(log_vals_fraud_count, bins=50, color='#ff7f50', edgecolor='white')\n",
    "plt.title('Distribution of fraud_count')\n",
    "plt.xlabel('fraud_count')\n",
    "plt.ylabel('Count')\n",
    "plt.show()"
   ]
  },
  {
   "cell_type": "code",
   "execution_count": null,
   "id": "0d6eb397",
   "metadata": {},
   "outputs": [],
   "source": [
    "log_vals_fraud_count.skew()"
   ]
  },
  {
   "cell_type": "code",
   "execution_count": null,
   "id": "09a0e60b",
   "metadata": {},
   "outputs": [],
   "source": [
    "#log_vals_fraud_amt = np.log10(X['fraud_amt']+0.001)\n",
    "#log_vals_fraud_amt = np.sqrt(X['fraud_amt'])\n",
    "from sklearn.preprocessing import PowerTransformer\n",
    "\n",
    "transformer = PowerTransformer(method='yeo-johnson')\n",
    "log_vals_fraud_amt = transformer.fit_transform(X[['fraud_amt']])\n",
    "plt.figure(figsize=(7, 5))\n",
    "plt.hist(log_vals_fraud_amt, bins=50, color='#ff7f50', edgecolor='white')\n",
    "plt.title('Distribution of fraud_amt')\n",
    "plt.xlabel('fraud_amt')\n",
    "plt.ylabel('Count')\n",
    "plt.show()"
   ]
  },
  {
   "cell_type": "code",
   "execution_count": null,
   "id": "846d85a8",
   "metadata": {},
   "outputs": [],
   "source": [
    "log_vals_fraud_amt.skew()"
   ]
  },
  {
   "cell_type": "code",
   "execution_count": null,
   "id": "45940152",
   "metadata": {},
   "outputs": [],
   "source": [
    "df_all.drop(columns=['amount_mean', 'amount_std'], inplace=True) "
   ]
  },
  {
   "cell_type": "code",
   "execution_count": null,
   "id": "caf4fb64",
   "metadata": {},
   "outputs": [],
   "source": [
    "from sklearn.model_selection import train_test_split\n",
    "\n",
    "df = df_all.drop(columns = ['TX_DATETIME','datetime','date','TX_FRAUD_SCENARIO','TX_TIME_SECONDS','TX_TIME_DAYS'])\n",
    "\n",
    "#df['TX_TIME_SECONDS'] = pd.to_numeric(df['TX_TIME_SECONDS'], errors='coerce')\n",
    "#df['TX_TIME_DAYS'] = pd.to_numeric(df['TX_TIME_DAYS'], errors='coerce')\n",
    "df['CUSTOMER_ID'] = pd.to_numeric(df['CUSTOMER_ID'], errors='coerce')\n",
    "df['TERMINAL_ID'] = pd.to_numeric(df['TERMINAL_ID'], errors='coerce')\n",
    "# Define your split point (e.g., 70% of the data for training)\n",
    "\n",
    "\n",
    "X = df.drop(columns = ['TX_FRAUD'])\n",
    "y = df['TX_FRAUD']\n",
    "\n",
    "\n",
    "# First split into training and temporary set\n",
    "X_normal = X[y == 0]  # only non-fraud transactions\n",
    "X_fraud = X[y == 1]  # fraud transactions (anomalous)\n",
    "\n",
    "# Split normal transactions into training and validation\n",
    "X_train, X_cv = train_test_split(X_normal, test_size=0.2, random_state=42)\n",
    "\n",
    "# Validation will have both normal and fraud to evaluate performance\n",
    "y_cv = y.loc[X_cv.index]  # match back to original indices\n",
    "X_cv = X.loc[X_cv.index]\n",
    "\n",
    "# Test will be a mixture of normal and fraud\n",
    "X_test, y_test = X.loc[X.index.difference(X_cv.index)], y.loc[X.index.difference(X_cv.index)]\n",
    "\n",
    "print(\"Training set (normal only):\", X_train.shape)\n",
    "print(\"Validation set (normal + fraud):\", X_cv.shape, y_cv.value_counts()) \n",
    "print(\"Test set (normal + fraud):\", X_test.shape, y_test.value_counts()) \n"
   ]
  },
  {
   "cell_type": "code",
   "execution_count": null,
   "id": "3240108c",
   "metadata": {},
   "outputs": [],
   "source": []
  }
 ],
 "metadata": {
  "kernelspec": {
   "display_name": "Python 3 (ipykernel)",
   "language": "python",
   "name": "python3"
  },
  "language_info": {
   "codemirror_mode": {
    "name": "ipython",
    "version": 3
   },
   "file_extension": ".py",
   "mimetype": "text/x-python",
   "name": "python",
   "nbconvert_exporter": "python",
   "pygments_lexer": "ipython3",
   "version": "3.11.5"
  }
 },
 "nbformat": 4,
 "nbformat_minor": 5
}
